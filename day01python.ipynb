{
  "nbformat": 4,
  "nbformat_minor": 0,
  "metadata": {
    "colab": {
      "provenance": []
    },
    "kernelspec": {
      "name": "python3",
      "display_name": "Python 3"
    },
    "language_info": {
      "name": "python"
    }
  },
  "cells": [
    {
      "cell_type": "code",
      "execution_count": 6,
      "metadata": {
        "colab": {
          "base_uri": "https://localhost:8080/"
        },
        "id": "WkLrEENQhGq6",
        "outputId": "0368331b-abda-4974-93ed-a974a8282539"
      },
      "outputs": [
        {
          "output_type": "stream",
          "name": "stdout",
          "text": [
            "enter number of years:3\n",
            "enter amount:10000\n",
            "rate of interest per annum:10\n",
            "3000.0\n"
          ]
        }
      ],
      "source": [
        "a= int(input(\"enter number of years:\"))\n",
        "b=int(input(\"enter amount:\"))\n",
        "c=float(input(\"rate of interest per annum:\"))\n",
        "simpleintrest=(b*a*c)/100\n",
        "print(simpleintrest)"
      ]
    },
    {
      "cell_type": "code",
      "source": [
        "l=float(input(\"enter the length\"))\n",
        "b=float(input(\"enter the breadth\"))\n",
        "a=l*b\n",
        "p=2*(l+b)\n",
        "print(\"area of rectangle\",a)\n",
        "print(\"perimeter of rectangle\",p)"
      ],
      "metadata": {
        "colab": {
          "base_uri": "https://localhost:8080/"
        },
        "id": "WAXUifF3kwaD",
        "outputId": "c0d32206-0e51-4196-e858-4534316bf707"
      },
      "execution_count": 8,
      "outputs": [
        {
          "output_type": "stream",
          "name": "stdout",
          "text": [
            "enter the length15\n",
            "enter the breadth10\n",
            "area of rectangle 150.0\n",
            "perimeter of rectangle 50.0\n"
          ]
        }
      ]
    },
    {
      "cell_type": "code",
      "source": [
        "min=int(input(\"enter the minutes\"))\n",
        "hour=min//60\n",
        "minutes=min%60\n",
        "print(hour,minutes)"
      ],
      "metadata": {
        "colab": {
          "base_uri": "https://localhost:8080/"
        },
        "id": "NmGU3-I_lwIB",
        "outputId": "ff26ba04-eccc-4233-a611-dc7a2bbe586a"
      },
      "execution_count": 12,
      "outputs": [
        {
          "output_type": "stream",
          "name": "stdout",
          "text": [
            "enter the minutes150\n",
            "2 30\n"
          ]
        }
      ]
    },
    {
      "cell_type": "code",
      "source": [
        "hour=int(input(\"enter hours\"))\n",
        "min=hour*60\n",
        "mins=hour\n",
        "print(\"the time is\",min)\n",
        "print(mins)"
      ],
      "metadata": {
        "id": "63y0iwn8nPyW"
      },
      "execution_count": null,
      "outputs": []
    }
  ]
}