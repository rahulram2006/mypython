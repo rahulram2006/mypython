{
  "nbformat": 4,
  "nbformat_minor": 0,
  "metadata": {
    "colab": {
      "provenance": []
    },
    "kernelspec": {
      "name": "python3",
      "display_name": "Python 3"
    },
    "language_info": {
      "name": "python"
    }
  },
  "cells": [
    {
      "cell_type": "code",
      "execution_count": 3,
      "metadata": {
        "colab": {
          "base_uri": "https://localhost:8080/"
        },
        "id": "ZfV9c3dHTlZg",
        "outputId": "42dd88f7-779f-47fe-caf3-394154d12712"
      },
      "outputs": [
        {
          "output_type": "stream",
          "name": "stdout",
          "text": [
            "enter first number:18\n",
            "enter second number:7\n",
            "the product is: 126\n"
          ]
        }
      ],
      "source": [
        "num1 = int(input(\"enter first number:\"))\n",
        "num2 = int(input(\"enter second number:\"))\n",
        "result = num1*num2\n",
        "print(\"the product is:\",result)"
      ]
    },
    {
      "cell_type": "code",
      "source": [
        "num1= int(input(\"enter first number\"))\n",
        "num2= int(input(\"enter second number\"))\n",
        "a= num1+num2\n",
        "b= num1-num2\n",
        "c= num1*num2\n",
        "d= num1/num2\n",
        "print(a,b,c,d)"
      ],
      "metadata": {
        "colab": {
          "base_uri": "https://localhost:8080/"
        },
        "id": "XETBZfoDWgHQ",
        "outputId": "e419d149-dc06-4ca5-cfea-cedacb7d3e9f"
      },
      "execution_count": 4,
      "outputs": [
        {
          "output_type": "stream",
          "name": "stdout",
          "text": [
            "enter first number7\n",
            "enter second number7\n",
            "14 0 49 1.0\n"
          ]
        }
      ]
    },
    {
      "cell_type": "code",
      "source": [
        "num1 = int(input(\"enter first number:\"))\n",
        "num2 = int(input(\"enter second number:\"))\n",
        "a = num1//num2\n",
        "b = num1%num2\n",
        "c = num1/num2\n",
        "print(a)\n",
        "print(b)\n",
        "print(c)"
      ],
      "metadata": {
        "colab": {
          "base_uri": "https://localhost:8080/"
        },
        "id": "Hq9Wfm06Yv4N",
        "outputId": "027178b9-521b-40ee-a439-bc4a86edf3e4"
      },
      "execution_count": 6,
      "outputs": [
        {
          "output_type": "stream",
          "name": "stdout",
          "text": [
            "enter first number:5\n",
            "enter second number:7\n",
            "0\n",
            "5\n",
            "0.7142857142857143\n"
          ]
        }
      ]
    },
    {
      "cell_type": "code",
      "source": [
        "a= float(input(\"enter the radius of circle\"))\n",
        "b= 3.14*a*a\n",
        "print(\"area of circle:\",b)"
      ],
      "metadata": {
        "colab": {
          "base_uri": "https://localhost:8080/"
        },
        "id": "HnwXjjWJaKSS",
        "outputId": "3246112a-41e2-4cb9-a07b-e8c432be3aaa"
      },
      "execution_count": 7,
      "outputs": [
        {
          "output_type": "stream",
          "name": "stdout",
          "text": [
            "enter the radius of circle5\n",
            "area of circle: 78.5\n"
          ]
        }
      ]
    },
    {
      "cell_type": "code",
      "source": [
        "celsius= float(input(\"enter degree celcius\"))\n",
        "b= (celsius*9/5)+32\n",
        "print(\"farenhite:\",b)"
      ],
      "metadata": {
        "colab": {
          "base_uri": "https://localhost:8080/"
        },
        "id": "Jrn63GRHbFUK",
        "outputId": "18832011-89cf-4b12-e02a-c24fb30fb812"
      },
      "execution_count": 10,
      "outputs": [
        {
          "output_type": "stream",
          "name": "stdout",
          "text": [
            "enter degree celcius25\n",
            "farenhite: 77.0\n"
          ]
        }
      ]
    },
    {
      "cell_type": "code",
      "source": [
        "farenhite= float(input(\"enter farenhite\"))\n",
        "a= (farenhite-32)*5/9\n",
        "print(\"celsius:\",a)"
      ],
      "metadata": {
        "colab": {
          "base_uri": "https://localhost:8080/"
        },
        "id": "g8KCKHTBdMd-",
        "outputId": "24eeeac7-4ebc-4c0d-eb19-4a85dadad0c4"
      },
      "execution_count": 11,
      "outputs": [
        {
          "output_type": "stream",
          "name": "stdout",
          "text": [
            "enter farenhite77\n",
            "celsius: 25.0\n"
          ]
        }
      ]
    },
    {
      "cell_type": "code",
      "source": [
        "a= int(input(\"enter wieght\"))\n",
        "b= float(input(\"enter your height\"))\n",
        "BMI= a/(b*b)\n",
        "print(BMI)\n"
      ],
      "metadata": {
        "colab": {
          "base_uri": "https://localhost:8080/"
        },
        "id": "dnDY_oxDeRcZ",
        "outputId": "60c7763c-fbbd-4c1d-a529-a21746803292"
      },
      "execution_count": 18,
      "outputs": [
        {
          "output_type": "stream",
          "name": "stdout",
          "text": [
            "enter wieght50\n",
            "enter your height1.65\n",
            "18.36547291092746\n"
          ]
        }
      ]
    },
    {
      "cell_type": "code",
      "source": [],
      "metadata": {
        "id": "19GHL9chdLY3"
      },
      "execution_count": null,
      "outputs": []
    },
    {
      "cell_type": "markdown",
      "source": [],
      "metadata": {
        "id": "D8cfRKNrX2NT"
      }
    }
  ]
}