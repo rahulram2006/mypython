{
  "nbformat": 4,
  "nbformat_minor": 0,
  "metadata": {
    "colab": {
      "provenance": []
    },
    "kernelspec": {
      "name": "python3",
      "display_name": "Python 3"
    },
    "language_info": {
      "name": "python"
    }
  },
  "cells": [
    {
      "cell_type": "code",
      "execution_count": 2,
      "metadata": {
        "colab": {
          "base_uri": "https://localhost:8080/"
        },
        "id": "AGT9BOd0Tg7D",
        "outputId": "0521d7b3-9254-4f74-c75c-9da867bcca3d"
      },
      "outputs": [
        {
          "output_type": "stream",
          "name": "stdout",
          "text": [
            "enter a number7\n",
            "the number is odd\n"
          ]
        }
      ],
      "source": [
        "num= int(input(\"enter a number\"))\n",
        "if num%2==0:\n",
        "  print(\"the number is even\")\n",
        "else:\n",
        "  print(\"the number is odd\")"
      ]
    },
    {
      "cell_type": "code",
      "source": [
        "a=int(input(\"start range\"))\n",
        "b=int(input(\"end range\"))\n",
        "sum=0\n",
        "for i in range(a,b+1):\n",
        "  sum=sum+1\n",
        "print(sum)"
      ],
      "metadata": {
        "colab": {
          "base_uri": "https://localhost:8080/"
        },
        "id": "N_LzgqGVkf_q",
        "outputId": "dcd10623-481d-4a9e-a2a7-47a525be336b"
      },
      "execution_count": 5,
      "outputs": [
        {
          "output_type": "stream",
          "name": "stdout",
          "text": [
            "start range1\n",
            "end range4\n",
            "4\n"
          ]
        }
      ]
    },
    {
      "cell_type": "code",
      "source": [
        "n=int(input(\"enter the number of terms:\"))\n",
        "a,b=0,1\n",
        "for i in range(n):\n",
        "  print(a,end=\"\")\n",
        "  a,b=b,a+b\n"
      ],
      "metadata": {
        "colab": {
          "base_uri": "https://localhost:8080/"
        },
        "id": "Hq-zmMofmyVP",
        "outputId": "5e2d678a-15ed-41b2-bb28-a0440c9fd1c4"
      },
      "execution_count": 12,
      "outputs": [
        {
          "output_type": "stream",
          "name": "stdout",
          "text": [
            "enter the number of terms:5\n",
            "01123"
          ]
        }
      ]
    },
    {
      "cell_type": "code",
      "source": [],
      "metadata": {
        "id": "HeaFOqUsprgB"
      },
      "execution_count": null,
      "outputs": []
    }
  ]
}