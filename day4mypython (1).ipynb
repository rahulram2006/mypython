{
  "nbformat": 4,
  "nbformat_minor": 0,
  "metadata": {
    "colab": {
      "provenance": []
    },
    "kernelspec": {
      "name": "python3",
      "display_name": "Python 3"
    },
    "language_info": {
      "name": "python"
    }
  },
  "cells": [
    {
      "cell_type": "code",
      "execution_count": null,
      "metadata": {
        "colab": {
          "base_uri": "https://localhost:8080/"
        },
        "id": "lwR6yTPl161m",
        "outputId": "8a9f1be7-10b1-4bea-939c-70391d0dbc16"
      },
      "outputs": [
        {
          "output_type": "stream",
          "name": "stdout",
          "text": [
            "['raj', 10, 7, 18, 8]\n",
            "['raj', 10, 7, 18, 8, 'ram']\n"
          ]
        }
      ],
      "source": [
        "\n",
        " rahul=[\"raj\",10,7,18,8]\n",
        "print(rahul)\n",
        "rahul.append(\"ram\")\n",
        "print(rahul)"
      ]
    },
    {
      "cell_type": "markdown",
      "source": [
        "Append operates as addtion of  extra data at the end of output"
      ],
      "metadata": {
        "id": "x6BT7XPp9FdH"
      }
    },
    {
      "cell_type": "code",
      "source": [
        "rahul=[\"ram\",10,20,30]\n",
        "rahul.insert(1,7)\n",
        "print(rahul)"
      ],
      "metadata": {
        "colab": {
          "base_uri": "https://localhost:8080/"
        },
        "id": "tPxMy0FG_Frk",
        "outputId": "100df264-a24d-4a72-a6d6-2e588f4b5d1b"
      },
      "execution_count": null,
      "outputs": [
        {
          "output_type": "stream",
          "name": "stdout",
          "text": [
            "['ram', 7, 10, 20, 30]\n"
          ]
        }
      ]
    },
    {
      "cell_type": "markdown",
      "source": [
        "Insert operates as correction of data or exchage of data"
      ],
      "metadata": {
        "id": "8HrCeuo_77ja"
      }
    },
    {
      "cell_type": "code",
      "source": [
        "rahul=[\"ram\",10,20,30]\n",
        "rahul.remove(20)\n",
        "print(rahul)"
      ],
      "metadata": {
        "colab": {
          "base_uri": "https://localhost:8080/"
        },
        "id": "4-3Nh-Zz775o",
        "outputId": "087d77b3-d7a2-400c-e664-2e6895528da1"
      },
      "execution_count": null,
      "outputs": [
        {
          "output_type": "stream",
          "name": "stdout",
          "text": [
            "['ram', 10, 30]\n"
          ]
        }
      ]
    },
    {
      "cell_type": "markdown",
      "source": [
        "Using .remove helps to remove specific data by giving name or number"
      ],
      "metadata": {
        "id": "o8KmVtsmAWP9"
      }
    },
    {
      "cell_type": "code",
      "source": [
        "rahul=[\"ram\",10,20,30]\n",
        "rahul.pop(2)\n",
        "print(rahul)"
      ],
      "metadata": {
        "colab": {
          "base_uri": "https://localhost:8080/"
        },
        "id": "M3AkrW8H4Qvk",
        "outputId": "65415f3d-3901-4526-f598-5d5e515b6ad8"
      },
      "execution_count": null,
      "outputs": [
        {
          "output_type": "stream",
          "name": "stdout",
          "text": [
            "['ram', 10, 30]\n"
          ]
        }
      ]
    },
    {
      "cell_type": "markdown",
      "source": [],
      "metadata": {
        "id": "qLTtT2TvUlyA"
      }
    },
    {
      "cell_type": "markdown",
      "source": [
        "Using pop also removes data but using order"
      ],
      "metadata": {
        "id": "W4D1m6T7A_V_"
      }
    },
    {
      "cell_type": "code",
      "source": [
        "rahul=[10,20,30,15]\n",
        "rahul.sort()\n",
        "print(rahul)"
      ],
      "metadata": {
        "colab": {
          "base_uri": "https://localhost:8080/"
        },
        "id": "kx_YUQNw2B2F",
        "outputId": "7d8eae9b-5b32-4a7d-b6c0-87e1c74470bd"
      },
      "execution_count": null,
      "outputs": [
        {
          "output_type": "stream",
          "name": "stdout",
          "text": [
            "[10, 15, 20, 30]\n"
          ]
        }
      ]
    },
    {
      "cell_type": "code",
      "source": [
        "class Car:\n",
        "    def __init__(self, brand, color):  # Constructor\n",
        "        self.brand = brand\n",
        "        self.color = color\n",
        "\n",
        "    def show_details(self):  # Method to display car details\n",
        "        print(f\"This is a {self.color} {self.brand} car.\")"
      ],
      "metadata": {
        "id": "7Rdyy1jCVr0b"
      },
      "execution_count": null,
      "outputs": []
    }
  ]
}