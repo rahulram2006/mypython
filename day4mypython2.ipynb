{
  "nbformat": 4,
  "nbformat_minor": 0,
  "metadata": {
    "colab": {
      "provenance": []
    },
    "kernelspec": {
      "name": "python3",
      "display_name": "Python 3"
    },
    "language_info": {
      "name": "python"
    }
  },
  "cells": [
    {
      "cell_type": "code",
      "execution_count": 13,
      "metadata": {
        "id": "vP_HuoDQVzbE"
      },
      "outputs": [],
      "source": []
    },
    {
      "cell_type": "code",
      "source": [
        "rahul=[10,1,23,18,2]\n",
        "print(rahul)\n"
      ],
      "metadata": {
        "colab": {
          "base_uri": "https://localhost:8080/"
        },
        "id": "oLf9kNpGp6pQ",
        "outputId": "0d177da0-a829-487d-bf19-8c734805aae8"
      },
      "execution_count": 3,
      "outputs": [
        {
          "output_type": "stream",
          "name": "stdout",
          "text": [
            "[10, 1, 23, 18, 2]\n"
          ]
        }
      ]
    },
    {
      "cell_type": "code",
      "source": [
        "rahul=[7,2,23,10,18]\n",
        "rahul.append(\"raj\")\n",
        "print(rahul)\n",
        "rahul.insert(1,36)\n",
        "print(rahul)"
      ],
      "metadata": {
        "colab": {
          "base_uri": "https://localhost:8080/"
        },
        "id": "HSPKsuTKrA-C",
        "outputId": "6a5334d0-a6aa-4f9a-8d59-3d4c1c9a7be6"
      },
      "execution_count": 4,
      "outputs": [
        {
          "output_type": "stream",
          "name": "stdout",
          "text": [
            "[7, 2, 23, 10, 18, 'raj']\n",
            "[7, 36, 2, 23, 10, 18, 'raj']\n"
          ]
        }
      ]
    },
    {
      "cell_type": "code",
      "source": [
        "rahul=[7,2,23,10,18]\n",
        "rahul.remove(23)\n",
        "print(rahul)\n",
        "rahul.pop(1)\n",
        "print(rahul)"
      ],
      "metadata": {
        "colab": {
          "base_uri": "https://localhost:8080/"
        },
        "id": "kOCd1EcBqoum",
        "outputId": "8e04ab04-1491-4975-8d06-18cef7a3dc43"
      },
      "execution_count": 5,
      "outputs": [
        {
          "output_type": "stream",
          "name": "stdout",
          "text": [
            "[7, 2, 10, 18]\n",
            "[7, 10, 18]\n"
          ]
        }
      ]
    },
    {
      "cell_type": "code",
      "source": [
        "rahul=[7,2,23,10,18]\n",
        "rahul.sort()\n",
        "print(rahul)\n",
        "rahul.reverse()\n",
        "(rahul)"
      ],
      "metadata": {
        "colab": {
          "base_uri": "https://localhost:8080/"
        },
        "id": "r6sg3oL2sM7n",
        "outputId": "1b9842f5-0a03-4f2b-9921-1341a4156ba5"
      },
      "execution_count": 7,
      "outputs": [
        {
          "output_type": "stream",
          "name": "stdout",
          "text": [
            "[2, 7, 10, 18, 23]\n"
          ]
        },
        {
          "output_type": "execute_result",
          "data": {
            "text/plain": [
              "[23, 18, 10, 7, 2]"
            ]
          },
          "metadata": {},
          "execution_count": 7
        }
      ]
    },
    {
      "cell_type": "code",
      "source": [
        "rahul=[7,2,23,10,18]\n",
        "rahul.reverse()\n",
        "print(rahul)"
      ],
      "metadata": {
        "colab": {
          "base_uri": "https://localhost:8080/"
        },
        "id": "egg3OjqMtOjz",
        "outputId": "1ea97d4a-4954-4a9c-e802-87b12dc97b32"
      },
      "execution_count": 8,
      "outputs": [
        {
          "output_type": "stream",
          "name": "stdout",
          "text": [
            "[18, 10, 23, 2, 7]\n"
          ]
        }
      ]
    },
    {
      "cell_type": "code",
      "source": [
        "def find_largest_smallest(my_list):\n",
        "    largest = max(my_list)\n",
        "    smallest = min(my_list)\n",
        "    return largest, smallest\n",
        "\n",
        "numbers = [10, 20, 30, 40, 50]\n",
        "largest, smallest = find_largest_smallest(numbers)\n",
        "\n",
        "print(\"Largest number:\", largest)\n",
        "print(\"Smallest number:\", smallest)"
      ],
      "metadata": {
        "colab": {
          "base_uri": "https://localhost:8080/"
        },
        "id": "tHVcXrwdtbt_",
        "outputId": "938a503e-8ff0-4f72-fd3c-90d944de43e2"
      },
      "execution_count": 13,
      "outputs": [
        {
          "output_type": "stream",
          "name": "stdout",
          "text": [
            "Largest number: 50\n",
            "Smallest number: 10\n"
          ]
        }
      ]
    },
    {
      "cell_type": "code",
      "source": [
        "tuple=(10,20,30)\n",
        "x,y,z= tuple\n",
        "print(\"x:\",x)\n",
        "print(\"y:\",y)\n",
        "print(\"z:\",z)\n"
      ],
      "metadata": {
        "colab": {
          "base_uri": "https://localhost:8080/"
        },
        "id": "ow0EnFMMymAq",
        "outputId": "ac7040fa-cf89-41ce-e3a0-483c31f13f8c"
      },
      "execution_count": 18,
      "outputs": [
        {
          "output_type": "stream",
          "name": "stdout",
          "text": [
            "x: 10\n",
            "y: 20\n",
            "z: 30\n"
          ]
        }
      ]
    },
    {
      "cell_type": "code",
      "source": [
        "my_list = [1, 2, 3, 4, 5]\n",
        "result = sum_of_elements(my_list)\n",
        "print(result)"
      ],
      "metadata": {
        "colab": {
          "base_uri": "https://localhost:8080/"
        },
        "id": "c6XSe_0Q1YwS",
        "outputId": "d089af4c-1788-4a2b-fbb0-d95d977f9ac8"
      },
      "execution_count": 19,
      "outputs": [
        {
          "output_type": "stream",
          "name": "stdout",
          "text": [
            "15\n"
          ]
        }
      ]
    },
    {
      "cell_type": "code",
      "source": [
        "def merge_and_remove_duplicates_ordered(list1, list2):\n",
        "    merged_list = list1 + list2\n",
        "    unique_list = []\n",
        "    for item in merged_list:\n",
        "        if item not in unique_list:\n",
        "            unique_list.append(item)\n",
        "    return unique_list"
      ],
      "metadata": {
        "id": "dcbMbe2I15ux"
      },
      "execution_count": 21,
      "outputs": []
    },
    {
      "cell_type": "code",
      "source": [
        "my_dict = {\n",
        "    \"name\": \"rahul\",\n",
        "    \"age\": 18,\n",
        "    \"city\": \"mysore\"\n",
        "}\n",
        "print(\"Dictionary:\", my_dict)"
      ],
      "metadata": {
        "colab": {
          "base_uri": "https://localhost:8080/"
        },
        "id": "UQYuiR533_A4",
        "outputId": "e762129f-2818-4fa6-e02c-aee1e2207cc2"
      },
      "execution_count": 24,
      "outputs": [
        {
          "output_type": "stream",
          "name": "stdout",
          "text": [
            "Dictionary: {'name': 'rahul', 'age': 18, 'city': 'mysore'}\n"
          ]
        }
      ]
    },
    {
      "cell_type": "code",
      "source": [
        "numbers = [50, 10, 30, 20, 40]\n",
        "\n",
        "ascending_order = sorted(numbers)\n",
        "\n",
        "descending_order = sorted(numbers, reverse=True)\n",
        "\n",
        "print(\"Sorted in ascending order:\", ascending_order)\n",
        "print(\"Sorted in descending order:\", descending_order)"
      ],
      "metadata": {
        "colab": {
          "base_uri": "https://localhost:8080/"
        },
        "id": "Qi6vyrfc6Wq0",
        "outputId": "c6290e76-78ae-42c8-b34b-d2ad88d1a537"
      },
      "execution_count": 25,
      "outputs": [
        {
          "output_type": "stream",
          "name": "stdout",
          "text": [
            "Sorted in ascending order: [10, 20, 30, 40, 50]\n",
            "Sorted in descending order: [50, 40, 30, 20, 10]\n"
          ]
        }
      ]
    },
    {
      "cell_type": "markdown",
      "source": [],
      "metadata": {
        "id": "9sH8t_EnWKJm"
      }
    },
    {
      "cell_type": "code",
      "source": [
        "my_tuple = (10, 20, 30, 40, 50)\n",
        "print(\"Element at index 0:\", my_tuple[0])\n",
        "print(\"Element at index 1:\", my_tuple[1])\n",
        "print(\"Element at index 2:\", my_tuple[2])\n",
        "print(\"Element at index 3:\", my_tuple[3])\n",
        "print(\"Element at index 4:\", my_tuple[4])"
      ],
      "metadata": {
        "colab": {
          "base_uri": "https://localhost:8080/"
        },
        "id": "PmyKi0vR88EY",
        "outputId": "d809a9aa-71f7-4360-fc06-a1f30b9de5f0"
      },
      "execution_count": 27,
      "outputs": [
        {
          "output_type": "stream",
          "name": "stdout",
          "text": [
            "Element at index 0: 10\n",
            "Element at index 1: 20\n",
            "Element at index 2: 30\n",
            "Element at index 3: 40\n",
            "Element at index 4: 50\n"
          ]
        }
      ]
    },
    {
      "cell_type": "code",
      "source": [
        "my_dict = {\n",
        "    \"name\": \"rahul.p\",\n",
        "    \"age\": 18,\n",
        "    \"city\": \"karnataka\",\n",
        "    \"country\": \"INDIA\"\n",
        "}\n",
        "def print_keys_values(dictionary):\n",
        "    for key, value in dictionary.items():\n",
        "        print(f\"Key: {key}, Value: {value}\")\n",
        "print_keys_values(my_dict)"
      ],
      "metadata": {
        "colab": {
          "base_uri": "https://localhost:8080/"
        },
        "id": "j9or83OkEDdX",
        "outputId": "447dd05f-bb77-44cc-a47c-171b6160fa30"
      },
      "execution_count": 28,
      "outputs": [
        {
          "output_type": "stream",
          "name": "stdout",
          "text": [
            "Key: name, Value: rahul.p\n",
            "Key: age, Value: 18\n",
            "Key: city, Value: karnataka\n",
            "Key: country, Value: INDIA\n"
          ]
        }
      ]
    }
  ]
}